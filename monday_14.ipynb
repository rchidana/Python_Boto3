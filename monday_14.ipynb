{
  "nbformat": 4,
  "nbformat_minor": 0,
  "metadata": {
    "kernelspec": {
      "display_name": "Python 3",
      "language": "python",
      "name": "python3"
    },
    "language_info": {
      "codemirror_mode": {
        "name": "ipython",
        "version": 3
      },
      "file_extension": ".py",
      "mimetype": "text/x-python",
      "name": "python",
      "nbconvert_exporter": "python",
      "pygments_lexer": "ipython3",
      "version": "3.7.4"
    },
    "colab": {
      "name": "monday_14.ipynb",
      "provenance": [],
      "include_colab_link": true
    }
  },
  "cells": [
    {
      "cell_type": "markdown",
      "metadata": {
        "id": "view-in-github",
        "colab_type": "text"
      },
      "source": [
        "<a href=\"https://colab.research.google.com/github/monsad/Python_Boto3/blob/master/monday_14.ipynb\" target=\"_parent\"><img src=\"https://colab.research.google.com/assets/colab-badge.svg\" alt=\"Open In Colab\"/></a>"
      ]
    },
    {
      "cell_type": "markdown",
      "metadata": {
        "id": "HrVh-dyDWqbW",
        "colab_type": "text"
      },
      "source": [
        "# Wizualizacja\n",
        "\n",
        "### Celem jest poznanie podstaw do tworzenia wizualizacji\n",
        "\n",
        "Wizualizacja jest bardzo ważnym tematem - chociażby dlatego, że jest to obszar, w którym człowiek potrafi wyciągnąć błyskawiczne wnioski. Pamiętasz to przysłowie - “Lepiej raz zobaczyć niż sto razy usłyszeć”? To właśnie za pomocą zrobionych wykresów można \"zobaczyć\" rozwiązanie.\n",
        "\n",
        "Z drugiej strony, warto zrozumieć, że wykresy są tworzone dla ludzi, maszyna ich nie potrzebuje. Innymi słowy, dla modelu wszystko wygląda jak wykres, on używa metryki sukcesu jako kierunku optymalizacji.\n",
        "Temat wizualizacji jest ogromny - dlatego my tutaj zajmiemy się tylko ograniczonym wycinkiem, ale warto od czegoś zacząć."
      ]
    },
    {
      "cell_type": "code",
      "metadata": {
        "id": "FRw2HgbcWqbY",
        "colab_type": "code",
        "colab": {}
      },
      "source": [
        "import numpy as np\n",
        "import pandas as pd\n",
        "\n",
        "import sklearn.datasets as d\n",
        "\n",
        "import seaborn as sns\n",
        "import matplotlib.pyplot as plt\n",
        "from pandas.plotting import scatter_matrix\n",
        "from matplotlib.ticker import NullLocator, FixedLocator, LogLocator, MultipleLocator\n",
        "\n",
        "%matplotlib inline"
      ],
      "execution_count": 0,
      "outputs": []
    },
    {
      "cell_type": "markdown",
      "metadata": {
        "id": "EEWPyItPWqbb",
        "colab_type": "text"
      },
      "source": [
        "## Linia\n",
        "Jeden z najprostszych wykresów  to linia łącząca dwa lub więcej punktów. "
      ]
    },
    {
      "cell_type": "code",
      "metadata": {
        "id": "vo1_w1rXWqbc",
        "colab_type": "code",
        "colab": {}
      },
      "source": [
        "plt.plot([3, 7, 8]);"
      ],
      "execution_count": 0,
      "outputs": []
    },
    {
      "cell_type": "markdown",
      "metadata": {
        "id": "ennR3yE6Wqbe",
        "colab_type": "text"
      },
      "source": [
        "Funkcja `.plot()` oczekuje na dwa parametry x i y, natomiast jeśli został podany tylko jeden (tak jak powyżej), czyli został podany w formie jednej listy, to traktuje to jako `y`, a wszystkie `x` wypełnia inkrementalnie. Możesz o tym myśleć w ten sposób, że wartości `x` to są indeksy `y`.\n",
        "\n",
        "#### Na przykład: `y[0]=3 => x=0, y=3`.\n",
        "\n",
        "Ten sam wynik, ale już jawnie podając `x`."
      ]
    },
    {
      "cell_type": "code",
      "metadata": {
        "id": "dMga0M_4Wqbf",
        "colab_type": "code",
        "colab": {}
      },
      "source": [
        "plt.plot([0, 1, 2], [3, 7, 8]);"
      ],
      "execution_count": 0,
      "outputs": []
    },
    {
      "cell_type": "markdown",
      "metadata": {
        "id": "cIRttUyUWqbh",
        "colab_type": "text"
      },
      "source": [
        "Znak `;` na końcu powoduje usunięcie opisu z biblioteki `matplotlib`. Możesz usuąć `;` i zobaczyć, co się pojawi.\n",
        "\n",
        "Warto zwrócić uwagę, że domyślny kolor linii to niebieski. W dalszej części pokażę, jak można zmienić kolor.\n",
        "\n",
        "Zróbmy teraz bardziej złożony wykres. Funkcja `f(x)` będzie nam generować wartości na osi x od 0 do 10 i będzie tych punktów 100."
      ]
    },
    {
      "cell_type": "code",
      "metadata": {
        "id": "QQPREk9SWqbi",
        "colab_type": "code",
        "colab": {}
      },
      "source": [
        "#jakaś \"ładna\" funkcja\n",
        "def f(x):\n",
        "    return np.pi*np.sin(x) + np.pi*np.cos(np.pi * x) + np.sin(x + np.pi)\n",
        "\n",
        "\n",
        "x = np.linspace(0, 10, 100) # generuję 100 punktów między 0 i 10\n",
        "y = f(x)\n",
        "\n",
        "plt.plot(x, y);"
      ],
      "execution_count": 0,
      "outputs": []
    },
    {
      "cell_type": "markdown",
      "metadata": {
        "id": "DINs3ObcWqbk",
        "colab_type": "text"
      },
      "source": [
        "## Trochę więcej kontroli nad wykresem\n",
        "\n",
        "### Kolor linii"
      ]
    },
    {
      "cell_type": "code",
      "metadata": {
        "id": "0QiQm3oRWqbl",
        "colab_type": "code",
        "colab": {}
      },
      "source": [
        "for color in ['r', 'g', 'b', 'c', 'm']: \n",
        "    plt.plot(x, y, color=color) #parametr \"color\" lub skrócona wersja \"c\". Możesz sprawdzić, podając `c=color`.\n",
        "    plt.show()"
      ],
      "execution_count": 0,
      "outputs": []
    },
    {
      "cell_type": "markdown",
      "metadata": {
        "id": "AfBo6_OzWqbn",
        "colab_type": "text"
      },
      "source": [
        "### Rodzaj linii"
      ]
    },
    {
      "cell_type": "code",
      "metadata": {
        "id": "zuvK4JwSWqbo",
        "colab_type": "code",
        "colab": {}
      },
      "source": [
        "for line_style in ['-', '-.', '--', ':', '']: #pusty string oznacza \"żaden\"\n",
        "    plt.plot(x, y, linestyle=line_style) #parameter \"linestyle\" lub skrócona wersja \"ls\"\n",
        "    plt.show()"
      ],
      "execution_count": 0,
      "outputs": []
    },
    {
      "cell_type": "markdown",
      "metadata": {
        "id": "g7MlVtpCWqbr",
        "colab_type": "text"
      },
      "source": [
        "### Punkty (marker w terminologii matplotlib)"
      ]
    },
    {
      "cell_type": "code",
      "metadata": {
        "id": "BdYqf22uWqbr",
        "colab_type": "code",
        "colab": {}
      },
      "source": [
        "all_markers = {'.': 'point',',': 'pixel','o': 'circle','v': 'triangle_down','^': 'triangle_up','<': 'triangle_left','>': 'triangle_right','1': 'tri_down','2': 'tri_up','3': 'tri_left','4': 'tri_right','8': 'octagon','s': 'square','p': 'pentagon','*': 'star','h': 'hexagon1','H': 'hexagon2','+': 'plus','x': 'x','D': 'diamond','d': 'thin_diamond','|': 'vline','_': 'hline'}\n",
        "\n",
        "markers = {'.': 'point', 'o': 'circle', 's': 'square', '*': 'star','h': 'hexagon1'}\n",
        "\n",
        "\n",
        "\n",
        "for marker, marker_name in markers.items():\n",
        "    print(\"{0}\\t{1}\".format(marker, marker_name))\n",
        "    \n",
        "    plt.figure(figsize=(12, 7))\n",
        "    plt.plot(x, y, markersize=7, marker=marker)\n",
        "    plt.show()"
      ],
      "execution_count": 0,
      "outputs": []
    },
    {
      "cell_type": "markdown",
      "metadata": {
        "id": "GqknVWA_Wqbt",
        "colab_type": "text"
      },
      "source": [
        "### Kontrola nad kreskami (ang. *ticks*) na osiach.\n",
        "Domyślnie wartości na osiach (x czy y) są wypisywane w sposób liniowy, ale możesz to zmienić zaczynając od tego, że możesz je schować, wprowadzić jawnie, które punkty chcesz mieć lub nawet zrobić skalę logarytmiczną.\n",
        "\n",
        "Więcej informacji w dokumentacji [Tick locating and formatting](http://matplotlib.org/api/ticker_api.html#matplotlib.ticker.Locator)."
      ]
    },
    {
      "cell_type": "code",
      "metadata": {
        "id": "L--smI6SWqbu",
        "colab_type": "code",
        "colab": {}
      },
      "source": [
        "locators = [\n",
        "    NullLocator(), #brak\n",
        "    FixedLocator([0, 1, 8]), #zafiksowany, będzie tylko dla 0, 1 i 8\n",
        "    LogLocator(2, [1.]), #skala logarytmiczna\n",
        "    MultipleLocator(3.) #co trzeci\n",
        "]\n",
        "\n",
        "for locator in locators:\n",
        "    print(str(locator))\n",
        "    plt.figure(figsize=(12, 7))\n",
        "    \n",
        "    ax = plt.gca()\n",
        "    ax.xaxis.set_major_locator(locator)\n",
        "    plt.plot(x, y)\n",
        "    plt.show()"
      ],
      "execution_count": 0,
      "outputs": []
    },
    {
      "cell_type": "markdown",
      "metadata": {
        "id": "GEkalcKcWqbw",
        "colab_type": "text"
      },
      "source": [
        "### Wiele linii\n",
        "\n",
        "Więcej niż jedna linia na jednym wykresie."
      ]
    },
    {
      "cell_type": "code",
      "metadata": {
        "id": "BsVLQZsiWqbw",
        "colab_type": "code",
        "colab": {}
      },
      "source": [
        "z = y / 4.0\n",
        "\n",
        "plt.figure(figsize=(12, 7))\n",
        "plt.plot(x, y, label=\"high\")\n",
        "plt.plot(x, z, label=\"low\")\n",
        "\n",
        "#dodanie legendy\n",
        "plt.legend(loc='best'); #opcja \"best\" (można też wpisać po prostu 0) oznacza, że biblioteka samodzielnie poszukuje najlepszej możliwej opcji"
      ],
      "execution_count": 0,
      "outputs": []
    },
    {
      "cell_type": "markdown",
      "metadata": {
        "id": "bZupU3I4Wqbz",
        "colab_type": "text"
      },
      "source": [
        "### Komentarz/adnotacja (ang. *annotation*) \n",
        "\n",
        "Bardziej skomplikowanym przypadkiem jest, kiedy chcemy zaznaczyć wybrany punkt na wykresie i dodać komentarz.\n",
        "\n",
        "Jako dodatek na wykresie poniżej dodajemy dwie linie: poziomą i pionową.\n",
        "\n",
        "*Swoją drogą*, \"biznes\" (ludzie z biznesu) bardzo to lubi. Kiedy wskazujemy miejsce warte uwagi wykres nagle staje się zrozumiały. Pokazanie wyniku to ważna umiejętność - zwykle osoby techniczne mają z tym problem."
      ]
    },
    {
      "cell_type": "code",
      "metadata": {
        "id": "84uAhP9rWqbz",
        "colab_type": "code",
        "colab": {}
      },
      "source": [
        "plt.figure(figsize=(12, 7))\n",
        "plt.plot(x, y, label=\"high\")\n",
        "plt.plot(x, z, label=\"low\")\n",
        "\n",
        "plt.ylim(-6, 7)\n",
        "\n",
        "plt.annotate(r'$\\pi sin(x) + \\pi cos(\\pi x) + \\pi sin(x + \\pi )$',\n",
        "            xy=(2, 5), xycoords='data',\n",
        "            xytext=(+3, +5.5), textcoords='data', fontsize=15,\n",
        "            arrowprops=dict(arrowstyle=\"->\",connectionstyle=\"arc3,rad=.2\"),\n",
        "            )\n",
        "\n",
        "plt.plot([0, 10], [0, 0], color='grey', linestyle='-.')\n",
        "plt.plot([2, 2],[0, 10], color='blue', linewidth=1, linestyle=\"--\");"
      ],
      "execution_count": 0,
      "outputs": []
    },
    {
      "cell_type": "markdown",
      "metadata": {
        "id": "UFZ4BxFBWqb2",
        "colab_type": "text"
      },
      "source": [
        "## Anatomia matplotlib\n",
        "\n",
        "![](../images/anatomy_matplotlib.png)\n",
        "\n",
        "Powyżej jest obraz, który opisuje poszczególne elementy wykresu.\n",
        "\n",
        "### Teraz dodajmy:\n",
        "1. Tytuł\n",
        "2. Agendę\n",
        "3. Bardziej zaawansowany podpis na osi x ( 0, $+\\pi$, $+2\\pi$, $+3\\pi$ )\n",
        "4. Jawnie punkty na dwóch liniach (używając różnych markerów)."
      ]
    },
    {
      "cell_type": "code",
      "metadata": {
        "id": "vat00iGxWqb3",
        "colab_type": "code",
        "colab": {}
      },
      "source": [
        "plt.figure(figsize=(12, 7))\n",
        "plt.plot(x, y, label=\"high\", marker='*')\n",
        "plt.plot(x, z, label=\"low\", marker='+')\n",
        "\n",
        "plt.ylim(-6, 7)\n",
        "\n",
        "plt.annotate(r'$\\pi sin(x) + \\pi cos(\\pi x) + \\pi sin(x + \\pi )$',\n",
        "            xy=(2, 5), xycoords='data',\n",
        "            xytext=(+3, +5.5), textcoords='data', fontsize=15,\n",
        "            arrowprops=dict(arrowstyle=\"->\",connectionstyle=\"arc3,rad=.2\"),\n",
        "            )\n",
        "\n",
        "plt.plot([0, 10], [0, 0], color='grey', linestyle='-.')\n",
        "plt.plot([2, 2],[0, 10], color='blue', linewidth=1, linestyle=\"--\")\n",
        "\n",
        "plt.title(\"Magic Sinusoida\", fontsize=20)\n",
        "plt.xticks([0, np.pi, 2*np.pi, 3*np.pi],\n",
        "          [r'$0$', r'$+\\pi$', r'$+2\\pi$', r'$+3\\pi$'])\n",
        "\n",
        "plt.yticks([-6, -5, -4, -3, -2, -1, 0, +1, +2, +3, +4, +5, +6], [r'$-6$', r'$-5$', r'$-4$', r'$-3$', r'$-2$', r'$-1$', r'$0$', r'$+1$', r'$+2$', r'$+3$', r'$+4$', r'$+5$', r'$+6$'])\n",
        "\n",
        "plt.legend(loc='best');"
      ],
      "execution_count": 0,
      "outputs": []
    },
    {
      "cell_type": "markdown",
      "metadata": {
        "id": "DDKagqG1Wqb5",
        "colab_type": "text"
      },
      "source": [
        "## Zadanie 2.2.1\n",
        "\n",
        "Przykład z życia wzięty... Zadanie wymaga więcej czasu, aby je wyjaśnić, niż je zrealizować. Natomiast celem jest pokazanie mniej standardowego zastosowania, żeby przyzwyczaić się do myślenia, że nawet logi można wizualizować.\n",
        "\n",
        "Załóżmy że jest system, którego zadaniem jest wykonanie pewnej pracy. Załóżmy, że praca ta polega na renderowaniu plików pdf (z jakąś tam zawartością).\n",
        "\n",
        "Proces zajmujący się wyrenderowaniem nowego pliku będziemy nazywać `job`. Istnieje kilka `workerów`, które mogą tworzyć nowe `joby`. W tym samym czasie tylko jeden `job` (wśród wszystkich `workerów`) może renderować, reszta musi oczekiwać... Działa to w następujący sposób. `Workery` budzą się w pewnym odstępie czasowym (żeby nie przeszkadzać sobie nawzajem), uwzględniając ile czasu zajmuje średni rendering.\n",
        "\n",
        "Po \"obudzeniu\" `worker` tworzy nowego `joba` z czasem begin. Następnie jest sprawdzane - czy można zacząć render, jeśli nie (czyli zajęte) - to `job` idzie spać na losowy okres czasu - jak obudzi się, znowu sprawdza czy render jest wolny, i tak aż uda się wykonać zadanie.\n",
        "\n",
        "Tak wygląda przykładowy log, w którym są pewne zdarzenia. \n",
        "Log zawiera następujące informacje.\n",
        "- **begin** - czas, kiedy worker uruchomił job i zaczął sprawdzać, czy może zacząć render\n",
        "- **finish** - czas, kiedy worker skończył job (włączając redner pdf)\n",
        "- **start_processing** - czas, kiedy job zaczął render\n",
        "- **offset_submit** - opóźnienie w sekundach, kiedy job narodził się (begin) w porównaniu do pierwszego (“joba”)\n",
        "- **offset_processing** - opóźnienie w sekundach od momentu, kiedy job narodził się (begin) i faktycznie rozpoczął rendering (innymi słowy, jak długo musiał czekać na rozpoczęcie renderingu)\n",
        "- **total_seconds** - ile czasu sumaryczne zajęło wykonanie joba\n",
        "\n",
        "\n",
        "### Logi\n",
        "![logs](../images/task2.2.1.png)\n",
        "\n",
        "\n",
        "### Oczekiwany wynik\n",
        "Twoim zadaniem jest zwizualizować wszystkie `joby`, żeby upewnić się, że wykonują się one w uczciwej kolejności. To oznacza, że nie ma wiszących `jobów`, bo ktoś inny ciągle zajmuje miejsce dla renderingu.\n",
        "\n",
        "![logs](../images/task2.2.2.png)"
      ]
    },
    {
      "cell_type": "markdown",
      "metadata": {
        "id": "i5CAKv6jWqcZ",
        "colab_type": "text"
      },
      "source": [
        "## Pandas (plotting)\n",
        "Pandas też może tworzyć wykresy z pudełka (używając `matplotlib` pod spodem)."
      ]
    },
    {
      "cell_type": "code",
      "metadata": {
        "id": "qwqcuQGoWqca",
        "colab_type": "code",
        "colab": {}
      },
      "source": [
        "iris.boxplot(by=\"species\", figsize=(12, 6));"
      ],
      "execution_count": 0,
      "outputs": []
    },
    {
      "cell_type": "code",
      "metadata": {
        "id": "dL4rcDPvWqcb",
        "colab_type": "code",
        "colab": {}
      },
      "source": [
        "cmaps = dict(zip(iris.species.unique(), ['red', 'blue', 'green']))\n",
        "\n",
        "\n",
        "scatter_matrix(iris, c=iris.species.map(lambda x: cmaps[x]), s=90, figsize=(12, 10));"
      ],
      "execution_count": 0,
      "outputs": []
    },
    {
      "cell_type": "markdown",
      "metadata": {
        "id": "hj7qvDEvWqcd",
        "colab_type": "text"
      },
      "source": [
        "## Przydatne linki\n",
        "1. [Anatomy of Matplotlib](https://www.youtube.com/watch?v=A2adyFMsut0)\n",
        "2. [Overview of Python Visualization Tools](http://pbpython.com/visualization-tools-1.html)\n",
        "3. [The Python Visualization Landscape](https://www.youtube.com/watch?v=FytuB8nFHPQ)\n",
        "4. [matplotlib - 2D and 3D plotting in Python](http://nbviewer.jupyter.org/github/jrjohansson/scientific-python-lectures/blob/master/Lecture-4-Matplotlib.ipynb)\n",
        "5. [Histograms and Boxplots](https://www.slideshare.net/dsaadeddin/histograms-and-boxplots)\n",
        "6. [How To Think Visually Using Visual Analogies – Infographic](https://blog.adioma.com/how-to-think-visually-using-visual-analogies-infographic/)\n",
        "7. [Visualizing Patterns on Repeat](https://flowingdata.com/2018/07/09/how-to-visualize-recurring-patterns/)\n",
        "8. [Your Friendly Guide to Colors in Data Visualisation](https://blog.datawrapper.de/colorguide/)\n",
        "9. [Create a zoomed-up inset plot in Matplotlib](http://akuederle.com/matplotlib-zoomed-up-inset)"
      ]
    }
  ]
}