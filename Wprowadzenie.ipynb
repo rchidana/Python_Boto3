{
  "nbformat": 4,
  "nbformat_minor": 0,
  "metadata": {
    "kernelspec": {
      "display_name": "Python 3",
      "language": "python",
      "name": "python3"
    },
    "language_info": {
      "codemirror_mode": {
        "name": "ipython",
        "version": 3
      },
      "file_extension": ".py",
      "mimetype": "text/x-python",
      "name": "python",
      "nbconvert_exporter": "python",
      "pygments_lexer": "ipython3",
      "version": "3.7.4"
    },
    "colab": {
      "name": "Wprowadzenie.ipynb",
      "provenance": [],
      "include_colab_link": true
    }
  },
  "cells": [
    {
      "cell_type": "markdown",
      "metadata": {
        "id": "view-in-github",
        "colab_type": "text"
      },
      "source": [
        "<a href=\"https://colab.research.google.com/github/monsad/Python_Boto3/blob/master/Wprowadzenie.ipynb\" target=\"_parent\"><img src=\"https://colab.research.google.com/assets/colab-badge.svg\" alt=\"Open In Colab\"/></a>"
      ]
    },
    {
      "cell_type": "markdown",
      "metadata": {
        "id": "0Zczl31kakIm",
        "colab_type": "text"
      },
      "source": [
        "# Python\n",
        "\n",
        "### Celem jest poznanie podstaw  `Python`\n",
        "\n",
        "Python to język, który w tej chwili staje się numerem 1 w świecie uczenia maszynowego. \n",
        "Python może nie jest językiem mega wydajnym, ale są na to pewne sposoby. \n",
        "\n",
        "Zaczynamy od wypisania `Hello, world!`. "
      ]
    },
    {
      "cell_type": "code",
      "metadata": {
        "id": "YFfBRH_lakIp",
        "colab_type": "code",
        "colab": {},
        "outputId": "de2f2f8e-8fa3-4d2a-984d-d25cc08d1d64"
      },
      "source": [
        "print('Hello, world!')"
      ],
      "execution_count": 0,
      "outputs": [
        {
          "output_type": "stream",
          "text": [
            "Hello, world!\n"
          ],
          "name": "stdout"
        }
      ]
    },
    {
      "cell_type": "markdown",
      "metadata": {
        "id": "4_9eV9wBakIv",
        "colab_type": "text"
      },
      "source": [
        "Jak widzisz, wygląda to dość prosto :). Idziemy dalej."
      ]
    },
    {
      "cell_type": "markdown",
      "metadata": {
        "id": "lv6g0FRWakIw",
        "colab_type": "text"
      },
      "source": [
        "## Zmienna (ang. *variable*)"
      ]
    },
    {
      "cell_type": "code",
      "metadata": {
        "id": "7C41iZyZakIx",
        "colab_type": "code",
        "colab": {},
        "outputId": "68726d28-d105-442b-b99e-573b4cc196f2"
      },
      "source": [
        "my_var = 1\n",
        "print(my_var)"
      ],
      "execution_count": 0,
      "outputs": [
        {
          "output_type": "stream",
          "text": [
            "1\n"
          ],
          "name": "stdout"
        }
      ]
    },
    {
      "cell_type": "markdown",
      "metadata": {
        "id": "IVjjBrtNakI0",
        "colab_type": "text"
      },
      "source": [
        "\n",
        "O stylu pisania kodu w Python, to warto zajrzeć do [PEP8](https://www.python.org/dev/peps/pep-0008/)."
      ]
    },
    {
      "cell_type": "markdown",
      "metadata": {
        "id": "Usrx5ZHNakI1",
        "colab_type": "text"
      },
      "source": [
        "## Typy zmiennych\n",
        "\n",
        "Python posiada 5 podstawowych typów zmiennych.\n",
        "- Numbers (int, long, float, complex)\n",
        "- String\n",
        "- List\n",
        "- Tuple\n",
        "- Dictionary\n",
        "\n",
        "Typ zmiennej można sprawdzić używając `type(my_var)`,\n",
        "na przykład:\n",
        "```\n",
        "my_var = 1\n",
        "print(type(my_var))\n",
        "```"
      ]
    },
    {
      "cell_type": "markdown",
      "metadata": {
        "id": "T5UfUOVdakI2",
        "colab_type": "text"
      },
      "source": [
        "### Numbers\n",
        "Najczęściej używane to `int` (integer) dla liczb całkowitych (np. -100, -5, 0, 34 itd) oraz `float` dla [liczb zmiennoprzecinkowych](https://pl.wikipedia.org/wiki/Liczba_zmiennoprzecinkowa).\n"
      ]
    },
    {
      "cell_type": "code",
      "metadata": {
        "id": "0kXwIlxrakI3",
        "colab_type": "code",
        "colab": {}
      },
      "source": [
        "my_int = 1\n",
        "my_float = 0.2"
      ],
      "execution_count": 0,
      "outputs": []
    },
    {
      "cell_type": "markdown",
      "metadata": {
        "id": "GEpwkTHAakJC",
        "colab_type": "text"
      },
      "source": [
        "Pierwszy element listy ma indeks zero (ostatni to liczba elementów minus 1). Spróbujmy dostać się do pierwszego elementu."
      ]
    },
    {
      "cell_type": "markdown",
      "metadata": {
        "id": "YWKiGROUakJG",
        "colab_type": "text"
      },
      "source": [
        "Funkcja `.append()` umożliwa dodanie nowego elementu do listy (nowo dodany element pojawia się na samym końcu listy)."
      ]
    },
    {
      "cell_type": "code",
      "metadata": {
        "id": "85j6B45KakJH",
        "colab_type": "code",
        "colab": {},
        "outputId": "bcff39d6-8201-4982-c812-c466fde929be"
      },
      "source": [
        "my_list.append(15)\n",
        "my_list"
      ],
      "execution_count": 0,
      "outputs": [
        {
          "output_type": "execute_result",
          "data": {
            "text/plain": [
              "[1, 2, 3, 4, 5, 6, 7, 8, 9, 15]"
            ]
          },
          "metadata": {
            "tags": []
          },
          "execution_count": 7
        }
      ]
    },
    {
      "cell_type": "markdown",
      "metadata": {
        "id": "IvPIPYe0akJK",
        "colab_type": "text"
      },
      "source": [
        "Stworzenie pustej listy:"
      ]
    },
    {
      "cell_type": "code",
      "metadata": {
        "id": "mVob4QZCakJK",
        "colab_type": "code",
        "colab": {}
      },
      "source": [
        "empty_list = []"
      ],
      "execution_count": 0,
      "outputs": []
    },
    {
      "cell_type": "markdown",
      "metadata": {
        "id": "0bNXdvfiakJP",
        "colab_type": "text"
      },
      "source": [
        "### Tuple\n",
        "Krotka przypomina listę, ale ma kilka istotnych różnic. Stwórzmy najpierw pustą krotkę (ang. *tuple*)."
      ]
    },
    {
      "cell_type": "code",
      "metadata": {
        "id": "X6OhsQI8akJQ",
        "colab_type": "code",
        "colab": {}
      },
      "source": [
        "empty_tuple = ()"
      ],
      "execution_count": 0,
      "outputs": []
    },
    {
      "cell_type": "markdown",
      "metadata": {
        "id": "zp-2yHlkakJS",
        "colab_type": "text"
      },
      "source": [
        "Teraz krotka będzie zawierać trzy cyfry (1, 2 oraz 3)."
      ]
    },
    {
      "cell_type": "code",
      "metadata": {
        "id": "ao5Sue4RakJT",
        "colab_type": "code",
        "colab": {}
      },
      "source": [
        "tuple_digits = (1,2,3)"
      ],
      "execution_count": 0,
      "outputs": []
    },
    {
      "cell_type": "markdown",
      "metadata": {
        "id": "lp6JvxX4akJW",
        "colab_type": "text"
      },
      "source": [
        "Pierwszy element"
      ]
    },
    {
      "cell_type": "code",
      "metadata": {
        "id": "zFmTadIgakJW",
        "colab_type": "code",
        "colab": {},
        "outputId": "36dbbcfd-f0aa-422b-bc15-e07fdd99dd51"
      },
      "source": [
        "tuple_digits[0]"
      ],
      "execution_count": 0,
      "outputs": [
        {
          "output_type": "execute_result",
          "data": {
            "text/plain": [
              "1"
            ]
          },
          "metadata": {
            "tags": []
          },
          "execution_count": 11
        }
      ]
    },
    {
      "cell_type": "markdown",
      "metadata": {
        "id": "pW3Yg9GoakJZ",
        "colab_type": "text"
      },
      "source": [
        "#### Immutable\n",
        "*Natomiast* zwróć uwagę, że \"*tupla*\" jest niezmienna (ang. *immutable*) w odróżnieniu od listy. Jeśli spróbujesz nadpisać np. zerowy element, to zobaczysz wyjątek."
      ]
    },
    {
      "cell_type": "code",
      "metadata": {
        "id": "v37zk4z0akJa",
        "colab_type": "code",
        "colab": {},
        "outputId": "7d8b6128-9e8a-432c-f5a8-f54b7857dd7c"
      },
      "source": [
        "tuple_digits[0] = 1"
      ],
      "execution_count": 0,
      "outputs": [
        {
          "output_type": "error",
          "ename": "TypeError",
          "evalue": "'tuple' object does not support item assignment",
          "traceback": [
            "\u001b[0;31m---------------------------------------------------------------------------\u001b[0m",
            "\u001b[0;31mTypeError\u001b[0m                                 Traceback (most recent call last)",
            "\u001b[0;32m<ipython-input-12-eb9499ddaddf>\u001b[0m in \u001b[0;36m<module>\u001b[0;34m\u001b[0m\n\u001b[0;32m----> 1\u001b[0;31m \u001b[0mtuple_digits\u001b[0m\u001b[0;34m[\u001b[0m\u001b[0;36m0\u001b[0m\u001b[0;34m]\u001b[0m \u001b[0;34m=\u001b[0m \u001b[0;36m1\u001b[0m\u001b[0;34m\u001b[0m\u001b[0;34m\u001b[0m\u001b[0m\n\u001b[0m",
            "\u001b[0;31mTypeError\u001b[0m: 'tuple' object does not support item assignment"
          ]
        }
      ]
    },
    {
      "cell_type": "markdown",
      "metadata": {
        "id": "qAMSc6aPakJd",
        "colab_type": "text"
      },
      "source": [
        "#### Hash\n",
        "W odróżnieniu od listy, w *tuple* można znaleźć *hash*, co umożliwia kilka ciekawych rzeczy. Dlaczego o tym mówię? Klucz w słowniku musi posiadać *hash*."
      ]
    },
    {
      "cell_type": "code",
      "metadata": {
        "id": "RjbsohCLakJd",
        "colab_type": "code",
        "colab": {},
        "outputId": "7d091d25-6155-466d-9d0a-75e2f0e204da"
      },
      "source": [
        "hash(tuple_digits)"
      ],
      "execution_count": 0,
      "outputs": [
        {
          "output_type": "execute_result",
          "data": {
            "text/plain": [
              "2528502973977326415"
            ]
          },
          "metadata": {
            "tags": []
          },
          "execution_count": 13
        }
      ]
    },
    {
      "cell_type": "markdown",
      "metadata": {
        "id": "E0wKZi1_akJg",
        "colab_type": "text"
      },
      "source": [
        "Zobacz, lista nie ma hashu. Dlatego np. nie może być kluczem w słowniku."
      ]
    },
    {
      "cell_type": "code",
      "metadata": {
        "id": "6149zFMOakJg",
        "colab_type": "code",
        "colab": {},
        "outputId": "df372dde-1814-4556-b35a-cc7f78ad7530"
      },
      "source": [
        "hash([1, 2, 3])"
      ],
      "execution_count": 0,
      "outputs": [
        {
          "output_type": "error",
          "ename": "TypeError",
          "evalue": "unhashable type: 'list'",
          "traceback": [
            "\u001b[0;31m---------------------------------------------------------------------------\u001b[0m",
            "\u001b[0;31mTypeError\u001b[0m                                 Traceback (most recent call last)",
            "\u001b[0;32m<ipython-input-14-84d65be9aa35>\u001b[0m in \u001b[0;36m<module>\u001b[0;34m\u001b[0m\n\u001b[0;32m----> 1\u001b[0;31m \u001b[0mhash\u001b[0m\u001b[0;34m(\u001b[0m\u001b[0;34m[\u001b[0m\u001b[0;36m1\u001b[0m\u001b[0;34m,\u001b[0m \u001b[0;36m2\u001b[0m\u001b[0;34m,\u001b[0m \u001b[0;36m3\u001b[0m\u001b[0;34m]\u001b[0m\u001b[0;34m)\u001b[0m\u001b[0;34m\u001b[0m\u001b[0;34m\u001b[0m\u001b[0m\n\u001b[0m",
            "\u001b[0;31mTypeError\u001b[0m: unhashable type: 'list'"
          ]
        }
      ]
    },
    {
      "cell_type": "markdown",
      "metadata": {
        "id": "lj8POjjZakJj",
        "colab_type": "text"
      },
      "source": [
        "Zwróć uwagę, że kluczem jest krotka."
      ]
    },
    {
      "cell_type": "code",
      "metadata": {
        "id": "gLGB2Y9kakJk",
        "colab_type": "code",
        "colab": {},
        "outputId": "8601e33d-db14-4b35-c396-5001cd0f0297"
      },
      "source": [
        "my_dict = {\n",
        "    ('a', 1): [1, 2, 3],\n",
        "    ('b', 2): [4, 5, 6],\n",
        "}\n",
        "\n",
        "my_dict[ ('a', 1) ]"
      ],
      "execution_count": 0,
      "outputs": [
        {
          "output_type": "execute_result",
          "data": {
            "text/plain": [
              "[1, 2, 3]"
            ]
          },
          "metadata": {
            "tags": []
          },
          "execution_count": 15
        }
      ]
    },
    {
      "cell_type": "markdown",
      "metadata": {
        "id": "12SamrquakJm",
        "colab_type": "text"
      },
      "source": [
        "#### unpack tupple\n",
        "Możesz wyciągnąć poszczególne wartości z krotki do poszczególnych zmiennych. To jest dość często używane, kiedy funkcja zwraca więcej niż jeden wynik."
      ]
    },
    {
      "cell_type": "code",
      "metadata": {
        "id": "FHMUTp59akJn",
        "colab_type": "code",
        "colab": {},
        "outputId": "344ba95b-1a2f-48be-f438-0458cc7a4cb0"
      },
      "source": [
        "tuple_digits = (1,2,3)\n",
        "one, two, three =  tuple_digits\n",
        "\n",
        "two"
      ],
      "execution_count": 0,
      "outputs": [
        {
          "output_type": "execute_result",
          "data": {
            "text/plain": [
              "2"
            ]
          },
          "metadata": {
            "tags": []
          },
          "execution_count": 16
        }
      ]
    },
    {
      "cell_type": "markdown",
      "metadata": {
        "id": "eSs2EIogakJp",
        "colab_type": "text"
      },
      "source": [
        "### String\n",
        "Wszystkie teksty przechowujemy jako \"string\", czyli ciąg znaków. String technicznie rzecz biorąc, to lista (znaków). Zobacz:"
      ]
    },
    {
      "cell_type": "code",
      "metadata": {
        "id": "rQaxTqAUakJp",
        "colab_type": "code",
        "colab": {},
        "outputId": "f57bfd68-7444-49ef-d7c8-5c064ee4a764"
      },
      "source": [
        "my_string = \"Hello world\"\n",
        "my_string[0]"
      ],
      "execution_count": 0,
      "outputs": [
        {
          "output_type": "execute_result",
          "data": {
            "text/plain": [
              "'H'"
            ]
          },
          "metadata": {
            "tags": []
          },
          "execution_count": 17
        }
      ]
    },
    {
      "cell_type": "markdown",
      "metadata": {
        "id": "VX4PYHtOakJr",
        "colab_type": "text"
      },
      "source": [
        "W ten sposób dostaliśmy się do pierwszej literki (czyli pierwszy element na liście).\n",
        "\n",
        "*Swoją drogą* podpowiem, jak można dostać się do ostatniego elementu w liście. Należy po prostu użyć indeks *-1*, dla przedostatniego należy użyć *-2*, itd."
      ]
    },
    {
      "cell_type": "code",
      "metadata": {
        "id": "6vbGIFixakJs",
        "colab_type": "code",
        "colab": {},
        "outputId": "fdbe047d-34e2-4db2-fa46-343328fc6d8f"
      },
      "source": [
        "my_string[-1]"
      ],
      "execution_count": 0,
      "outputs": [
        {
          "output_type": "execute_result",
          "data": {
            "text/plain": [
              "'d'"
            ]
          },
          "metadata": {
            "tags": []
          },
          "execution_count": 18
        }
      ]
    },
    {
      "cell_type": "markdown",
      "metadata": {
        "id": "HxS97YmiakJu",
        "colab_type": "text"
      },
      "source": [
        "Jest jeszcze kilka innych przydatnych funkcji:\n",
        "- `.lower()` - wszystkie literki będą małe (tzn. zamieniamy wielkie litery na małe)\n",
        "- `.strip()` - usunięcie z przodu (tyłu) pustych znaków\n",
        "- `.split(SEPARATOR)` - rozbicie stringa na listę elementów wg separatora\n",
        "- `'SEPARATOR'.join(LISTA)` - funkcja odwrotna do split(), złączenie listy do stringa"
      ]
    },
    {
      "cell_type": "code",
      "metadata": {
        "id": "Innpzf0sakJu",
        "colab_type": "code",
        "colab": {},
        "outputId": "656fa8e7-a8e1-454d-b07b-a890e50df6cb"
      },
      "source": [
        "\"HeLlO WoRlD\".lower()"
      ],
      "execution_count": 0,
      "outputs": [
        {
          "output_type": "execute_result",
          "data": {
            "text/plain": [
              "'hello world'"
            ]
          },
          "metadata": {
            "tags": []
          },
          "execution_count": 19
        }
      ]
    },
    {
      "cell_type": "code",
      "metadata": {
        "id": "3u_fQJtOakJx",
        "colab_type": "code",
        "colab": {},
        "outputId": "9218f8a9-a7e3-4018-ac7e-4c89b2c1ad1f"
      },
      "source": [
        "\"    HeLlO WoRlD    \".strip()"
      ],
      "execution_count": 0,
      "outputs": [
        {
          "output_type": "execute_result",
          "data": {
            "text/plain": [
              "'HeLlO WoRlD'"
            ]
          },
          "metadata": {
            "tags": []
          },
          "execution_count": 20
        }
      ]
    },
    {
      "cell_type": "code",
      "metadata": {
        "id": "3-9NpZAIakJz",
        "colab_type": "code",
        "colab": {},
        "outputId": "c08a7291-7f54-4c17-d99c-797a68e38da9"
      },
      "source": [
        "\"hello world\".split(\" \")"
      ],
      "execution_count": 0,
      "outputs": [
        {
          "output_type": "execute_result",
          "data": {
            "text/plain": [
              "['hello', 'world']"
            ]
          },
          "metadata": {
            "tags": []
          },
          "execution_count": 21
        }
      ]
    },
    {
      "cell_type": "code",
      "metadata": {
        "id": "oggQDr3rakJ0",
        "colab_type": "code",
        "colab": {},
        "outputId": "0051c9a6-4146-4278-9669-3e3ce77d8824"
      },
      "source": [
        "'; '.join(['hello', 'world'])"
      ],
      "execution_count": 0,
      "outputs": [
        {
          "output_type": "execute_result",
          "data": {
            "text/plain": [
              "'hello; world'"
            ]
          },
          "metadata": {
            "tags": []
          },
          "execution_count": 22
        }
      ]
    },
    {
      "cell_type": "markdown",
      "metadata": {
        "id": "4gv5UUqDakJ2",
        "colab_type": "text"
      },
      "source": [
        "### Dictionary\n",
        "Pojedynczy element słownika składa się z pary: klucz i wartość."
      ]
    },
    {
      "cell_type": "code",
      "metadata": {
        "id": "mues1494akJ3",
        "colab_type": "code",
        "colab": {},
        "outputId": "078ddbea-12b7-47c7-9066-06206043984d"
      },
      "source": [
        "capital_cities = {'Poland': 'Warsaw', 'Belarus': 'Minsk', 'Czech': 'Prague'}\n",
        "capital_cities['Poland']"
      ],
      "execution_count": 0,
      "outputs": [
        {
          "output_type": "execute_result",
          "data": {
            "text/plain": [
              "'Warsaw'"
            ]
          },
          "metadata": {
            "tags": []
          },
          "execution_count": 23
        }
      ]
    },
    {
      "cell_type": "markdown",
      "metadata": {
        "id": "0KQmzid5akJ5",
        "colab_type": "text"
      },
      "source": [
        "## If, else itd."
      ]
    },
    {
      "cell_type": "markdown",
      "metadata": {
        "id": "B0HMfuM1akJ6",
        "colab_type": "text"
      },
      "source": [
        "Kluczowe elementy w programowaniu to warunek i pętla, dzięki czemu wiele skomplikownaych rzeczy staje się możliwych. Poniżej jest przedstawiony kod z warunkiem `if` oraz `else`.\n",
        "\n",
        "W kodzie poniżej należy podać kraj, np. \"Poland\". Możesz również dodać więcej krajów do słownika `capital_cities` w komórce powyżej."
      ]
    },
    {
      "cell_type": "markdown",
      "metadata": {
        "id": "JvXy_XNKakKB",
        "colab_type": "text"
      },
      "source": [
        "## Pętla - for"
      ]
    },
    {
      "cell_type": "code",
      "metadata": {
        "id": "MYbQvvAEakKC",
        "colab_type": "code",
        "colab": {},
        "outputId": "7c72f289-a397-46eb-dede-fdd9e4be5e0a"
      },
      "source": [
        "output_list = []\n",
        "\n",
        "for x in [0, 1, 2, 3, 4, 5, 6, 7, 8, 9]:\n",
        "    output_list.append(x) #append element to list\n",
        "    \n",
        "output_list"
      ],
      "execution_count": 0,
      "outputs": [
        {
          "output_type": "execute_result",
          "data": {
            "text/plain": [
              "[0, 1, 2, 3, 4, 5, 6, 7, 8, 9]"
            ]
          },
          "metadata": {
            "tags": []
          },
          "execution_count": 27
        }
      ]
    },
    {
      "cell_type": "markdown",
      "metadata": {
        "id": "5uawA_LvakKE",
        "colab_type": "text"
      },
      "source": [
        "Ten sam kod można trochę uprościć, wystarczy zamienić wprost podaną listę na `range(10)`."
      ]
    },
    {
      "cell_type": "code",
      "metadata": {
        "id": "oYt_sSqOakKF",
        "colab_type": "code",
        "colab": {},
        "outputId": "44abcac7-06bf-4963-e1d3-a96c6c5b88ba"
      },
      "source": [
        "output_list = []\n",
        "\n",
        "for x in range(10):\n",
        "    output_list.append(x) #append element to list\n",
        "    \n",
        "output_list"
      ],
      "execution_count": 0,
      "outputs": [
        {
          "output_type": "execute_result",
          "data": {
            "text/plain": [
              "[0, 1, 2, 3, 4, 5, 6, 7, 8, 9]"
            ]
          },
          "metadata": {
            "tags": []
          },
          "execution_count": 28
        }
      ]
    },
    {
      "cell_type": "markdown",
      "metadata": {
        "id": "bG8SNdM1akKH",
        "colab_type": "text"
      },
      "source": [
        "## Funkcja\n",
        "Tworzenie własnej funkcji składa się z kilku kluczowych elementów:\n",
        "1. zaczyna się od `def` (słowo kluczowe)\n",
        "2. następnie podaje się nazwę funkcji (plus ewentualnie argumenty)\n",
        "3. następnie po nazwie funkcji  koniecznie trzeba dodać `:` \n",
        "4. potem jest ciało funkcji (w Pythonie ważne są odstępy o tej samej długości)\n",
        "5. na końcu jest słowo kluczowe `return` - to jest wynik, który zwraca funkcja\n",
        "\n",
        "Przykład:"
      ]
    },
    {
      "cell_type": "code",
      "metadata": {
        "id": "MDenfsJeakKI",
        "colab_type": "code",
        "colab": {}
      },
      "source": [
        "def doubled_fun(value):\n",
        "    return value * 2"
      ],
      "execution_count": 0,
      "outputs": []
    },
    {
      "cell_type": "markdown",
      "metadata": {
        "id": "kxn-wSFfakKK",
        "colab_type": "text"
      },
      "source": [
        "Wywołanie funkcji."
      ]
    },
    {
      "cell_type": "code",
      "metadata": {
        "id": "0gDVm9BHakKK",
        "colab_type": "code",
        "colab": {},
        "outputId": "1d8fd299-3deb-4132-e495-aad74eb6d06e"
      },
      "source": [
        "doubled_fun(12)"
      ],
      "execution_count": 0,
      "outputs": [
        {
          "output_type": "execute_result",
          "data": {
            "text/plain": [
              "24"
            ]
          },
          "metadata": {
            "tags": []
          },
          "execution_count": 30
        }
      ]
    },
    {
      "cell_type": "markdown",
      "metadata": {
        "id": "mJz97WPXakKM",
        "colab_type": "text"
      },
      "source": [
        "### unpack tupple\n",
        "*Zwróć uwagę*, że funkcja może zwrócić krotkę (ang. *tuple*) i wynik można przypisać do poszczególnych zmiennych. Ważne jest, aby liczba elementów w tuple oraz liczba zmiennych zgadzała się. Ten mechanizm jest bardzo wygodny, więc warto o nim wiedzieć."
      ]
    },
    {
      "cell_type": "code",
      "metadata": {
        "id": "Rx3ZqihGakKM",
        "colab_type": "code",
        "colab": {},
        "outputId": "daeab9c4-9b96-4bf2-f66e-4677281613a6"
      },
      "source": [
        "def my_fun_with_tuple():\n",
        "    return 1, 2, 3\n",
        "\n",
        "a,b,c = my_fun_with_tuple()\n",
        "\"a:\", a, \"b:\", \"c:\", c"
      ],
      "execution_count": 0,
      "outputs": [
        {
          "output_type": "execute_result",
          "data": {
            "text/plain": [
              "('a:', 1, 'b:', 'c:', 3)"
            ]
          },
          "metadata": {
            "tags": []
          },
          "execution_count": 31
        }
      ]
    },
    {
      "cell_type": "markdown",
      "metadata": {
        "id": "Phs_KHGJakKO",
        "colab_type": "text"
      },
      "source": [
        "### Funkcja anonimowa (lambda)\n",
        "Są funkcje, które nie mają nazw - czyli funkcje anonimowe.\n",
        "\n",
        "Tą samą funkcjonalność (funkcji `doubled_fun`) można zapisać przy pomocy *lambdy*"
      ]
    },
    {
      "cell_type": "code",
      "metadata": {
        "id": "T4rNkr9oakKP",
        "colab_type": "code",
        "colab": {},
        "outputId": "4cc5e9dc-19c2-41f6-d274-239d53472090"
      },
      "source": [
        "(lambda value: value * 2)(12)"
      ],
      "execution_count": 0,
      "outputs": [
        {
          "output_type": "execute_result",
          "data": {
            "text/plain": [
              "24"
            ]
          },
          "metadata": {
            "tags": []
          },
          "execution_count": 33
        }
      ]
    },
    {
      "cell_type": "markdown",
      "metadata": {
        "id": "j2SK_vlRakKR",
        "colab_type": "text"
      },
      "source": [
        "## Manipulacja listą\n",
        "\n",
        "Załóżmy, że naszem celem jest dodanie do listy podwojonych wartości cyfr od 0 do 9. Oczekiwany wynik to: `[0, 2, 4, 6, 8, 10, 12, 14, 16, 18]`. Innymi słowy, chcemy każdą wartość przemnożyć razy dwa. Wykorzystajmy całą wiedzę, którą zdobyliśmy dotychczas."
      ]
    },
    {
      "cell_type": "code",
      "metadata": {
        "id": "bWTofxh9akKS",
        "colab_type": "code",
        "colab": {},
        "outputId": "d3e98d18-d06a-45d9-fee2-385127e72a02"
      },
      "source": [
        "def doubled_fun(value):\n",
        "    return value * 2\n",
        "\n",
        "output_list = []\n",
        "for x in range(10):\n",
        "    output_list.append( doubled_fun(x) )\n",
        "    \n",
        "output_list"
      ],
      "execution_count": 0,
      "outputs": [
        {
          "output_type": "execute_result",
          "data": {
            "text/plain": [
              "[0, 2, 4, 6, 8, 10, 12, 14, 16, 18]"
            ]
          },
          "metadata": {
            "tags": []
          },
          "execution_count": 34
        }
      ]
    },
    {
      "cell_type": "markdown",
      "metadata": {
        "id": "mj7vqaUDakKV",
        "colab_type": "text"
      },
      "source": [
        "### Mapping\n",
        "Można to zrobić inaczej, wykorzystując funkcje `map`, która przechodzi przez wszystkie elementy listy i przekazuje ich wartość do funkcji, która może je zmienić.\n"
      ]
    },
    {
      "cell_type": "code",
      "metadata": {
        "id": "1lz2bR1dakKW",
        "colab_type": "code",
        "colab": {},
        "outputId": "e1102fc5-d36c-4397-f544-d5b8deb443a6"
      },
      "source": [
        "my_list = range(10)\n",
        "list(my_list)"
      ],
      "execution_count": 0,
      "outputs": [
        {
          "output_type": "execute_result",
          "data": {
            "text/plain": [
              "[0, 1, 2, 3, 4, 5, 6, 7, 8, 9]"
            ]
          },
          "metadata": {
            "tags": []
          },
          "execution_count": 35
        }
      ]
    },
    {
      "cell_type": "code",
      "metadata": {
        "id": "pRplN_eJakKY",
        "colab_type": "code",
        "colab": {},
        "outputId": "d9737b47-0450-436f-8db1-971101bfe648"
      },
      "source": [
        "def doubled_fun(value):\n",
        "    return value * 2\n",
        "    \n",
        "list( map(doubled_fun, my_list) )"
      ],
      "execution_count": 0,
      "outputs": [
        {
          "output_type": "execute_result",
          "data": {
            "text/plain": [
              "[0, 2, 4, 6, 8, 10, 12, 14, 16, 18]"
            ]
          },
          "metadata": {
            "tags": []
          },
          "execution_count": 36
        }
      ]
    }
  ]
}