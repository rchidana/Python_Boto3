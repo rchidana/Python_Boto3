{
  "nbformat": 4,
  "nbformat_minor": 0,
  "metadata": {
    "kernelspec": {
      "display_name": "Python 3",
      "language": "python",
      "name": "python3"
    },
    "language_info": {
      "codemirror_mode": {
        "name": "ipython",
        "version": 3
      },
      "file_extension": ".py",
      "mimetype": "text/x-python",
      "name": "python",
      "nbconvert_exporter": "python",
      "pygments_lexer": "ipython3",
      "version": "3.7.4"
    },
    "colab": {
      "name": "lekcja2a.ipynb",
      "provenance": [],
      "include_colab_link": true
    }
  },
  "cells": [
    {
      "cell_type": "markdown",
      "metadata": {
        "id": "view-in-github",
        "colab_type": "text"
      },
      "source": [
        "<a href=\"https://colab.research.google.com/github/monsad/Python_Boto3/blob/master/lekcja2a.ipynb\" target=\"_parent\"><img src=\"https://colab.research.google.com/assets/colab-badge.svg\" alt=\"Open In Colab\"/></a>"
      ]
    },
    {
      "cell_type": "markdown",
      "metadata": {
        "id": "fuu4-LWtkQTW",
        "colab_type": "text"
      },
      "source": [
        "# Biblioteki\n",
        "\n"
      ]
    },
    {
      "cell_type": "markdown",
      "metadata": {
        "id": "zeY7w4qSkQT7",
        "colab_type": "text"
      },
      "source": [
        "## [numpy](http://cs231n.github.io/python-numpy-tutorial/)\n",
        "To biblioteka do pracy z wektorami lub macierzami. Jest bardzo szybka i dlatego będziemy jej używać."
      ]
    },
    {
      "cell_type": "code",
      "metadata": {
        "id": "0J2Ny5-9kQT8",
        "colab_type": "code",
        "colab": {}
      },
      "source": [
        "import numpy as np #domyślnie numpy jest nadawy alias \"np\""
      ],
      "execution_count": 0,
      "outputs": []
    },
    {
      "cell_type": "code",
      "metadata": {
        "id": "ISqcK-XBkQT-",
        "colab_type": "code",
        "colab": {},
        "outputId": "8483e18f-9c02-407b-8f6b-2f78769cf4a5"
      },
      "source": [
        "arr = np.array([1, 2, 3, 4, 5, 6]) # tablica\n",
        "arr"
      ],
      "execution_count": 0,
      "outputs": [
        {
          "output_type": "execute_result",
          "data": {
            "text/plain": [
              "array([1, 2, 3, 4, 5, 6])"
            ]
          },
          "metadata": {
            "tags": []
          },
          "execution_count": 11
        }
      ]
    },
    {
      "cell_type": "code",
      "metadata": {
        "id": "Q5R18GD-kQUB",
        "colab_type": "code",
        "colab": {},
        "outputId": "09ed5d7e-50aa-4909-9552-97f9b79fc31d"
      },
      "source": [
        "type(arr)"
      ],
      "execution_count": 0,
      "outputs": [
        {
          "output_type": "execute_result",
          "data": {
            "text/plain": [
              "numpy.ndarray"
            ]
          },
          "metadata": {
            "tags": []
          },
          "execution_count": 12
        }
      ]
    },
    {
      "cell_type": "code",
      "metadata": {
        "id": "W7_5-j2dkQUE",
        "colab_type": "code",
        "colab": {},
        "outputId": "32e38dd8-70ea-49eb-f3c3-6462b3f38de6"
      },
      "source": [
        "np.array([1, 2, 3]) + np.array([5, 6, 7])"
      ],
      "execution_count": 0,
      "outputs": [
        {
          "output_type": "execute_result",
          "data": {
            "text/plain": [
              "array([ 6,  8, 10])"
            ]
          },
          "metadata": {
            "tags": []
          },
          "execution_count": 13
        }
      ]
    },
    {
      "cell_type": "code",
      "metadata": {
        "id": "WCg7dQaDkQUH",
        "colab_type": "code",
        "colab": {},
        "outputId": "72ab815b-daf1-423f-e12e-521c28a97401"
      },
      "source": [
        "np.mean([1, 2, 3])"
      ],
      "execution_count": 0,
      "outputs": [
        {
          "output_type": "execute_result",
          "data": {
            "text/plain": [
              "2.0"
            ]
          },
          "metadata": {
            "tags": []
          },
          "execution_count": 14
        }
      ]
    },
    {
      "cell_type": "code",
      "metadata": {
        "id": "EzSP_wFwkQUJ",
        "colab_type": "code",
        "colab": {},
        "outputId": "1bfbcc5d-c198-424b-afc5-40a5a9ea6cce"
      },
      "source": [
        "np.array([1, 2, 3]).mean()"
      ],
      "execution_count": 0,
      "outputs": [
        {
          "output_type": "execute_result",
          "data": {
            "text/plain": [
              "2.0"
            ]
          },
          "metadata": {
            "tags": []
          },
          "execution_count": 15
        }
      ]
    },
    {
      "cell_type": "code",
      "metadata": {
        "id": "7InelJ2dkQUM",
        "colab_type": "code",
        "colab": {},
        "outputId": "50a6fdfc-9859-4ad7-9398-efc480cd6e11"
      },
      "source": [
        "print(arr == 1) #tylko pierwszy element jest True (bo jest równy 1)\n",
        "print(arr == 2) #tylko drugie element jest True (bo jest równy 2)\n",
        "print(arr > 2) #pierwsze dwa nie pasują (tylko 3 i wyżej są większe od 2), reszt pasuję\n",
        "print(arr %2 == 0) # tylko parzyste"
      ],
      "execution_count": 0,
      "outputs": [
        {
          "output_type": "stream",
          "text": [
            "[ True False False False False False]\n",
            "[False  True False False False False]\n",
            "[False False  True  True  True  True]\n",
            "[False  True False  True False  True]\n"
          ],
          "name": "stdout"
        }
      ]
    },
    {
      "cell_type": "markdown",
      "metadata": {
        "id": "RdQDaHifkQUP",
        "colab_type": "text"
      },
      "source": [
        "Zostawiamy tylko parzyste elementy w tablicy. Operator \"%\" to jest [modulo](https://pl.wikipedia.org/wiki/Modulo)."
      ]
    },
    {
      "cell_type": "code",
      "metadata": {
        "id": "7_KOPaq_kQUP",
        "colab_type": "code",
        "colab": {},
        "outputId": "5e11fdb2-42da-410b-c784-59aa56836638"
      },
      "source": [
        "arr[ arr % 2 == 0 ]"
      ],
      "execution_count": 0,
      "outputs": [
        {
          "output_type": "execute_result",
          "data": {
            "text/plain": [
              "array([2, 4, 6])"
            ]
          },
          "metadata": {
            "tags": []
          },
          "execution_count": 17
        }
      ]
    },
    {
      "cell_type": "markdown",
      "metadata": {
        "id": "8aNaHmMvkQUR",
        "colab_type": "text"
      },
      "source": [
        "Na samym dole strony są dwa linki do 2-godzinnych webinarów na temat: python/numpy + pandas. Są tam również przykłady na githubie. Zapoznaj się z tym i spróbuj to wykonać samodzielnie (przynajmniej część)."
      ]
    },
    {
      "cell_type": "markdown",
      "metadata": {
        "id": "06nvnYk9kQUS",
        "colab_type": "text"
      },
      "source": [
        "# Zadania domowe\n",
        "\n",
        "\n",
        "Masz listę od 0 do 18. Twoim zadaniem jest zostawić tylko liczby, które dzielą się na 4 bez reszty (czyli 0, 4, 8, 12 i 16). Nie używaj czystego Pythona, tylko postaraj się wykorzystać nowe biblioteki. "
      ]
    },
    {
      "cell_type": "markdown",
      "metadata": {
        "id": "g6QQTJizkQUa",
        "colab_type": "text"
      },
      "source": [
        "## [pandas](https://www.dataquest.io/blog/pandas-python-tutorial/)\n",
        "To biblioteka, która będzie nam bardzo potrzebna dalej. Można zaryzykować stwierdzenie, że to bardziej rozbudowany numpy"
      ]
    },
    {
      "cell_type": "code",
      "metadata": {
        "id": "WQjNCQd4kQUb",
        "colab_type": "code",
        "colab": {}
      },
      "source": [
        "import pandas as pd #domyślnie pandas jest nadawy alias \"pd\""
      ],
      "execution_count": 0,
      "outputs": []
    },
    {
      "cell_type": "markdown",
      "metadata": {
        "id": "nCPbnWA8kQUd",
        "colab_type": "text"
      },
      "source": [
        "`Pandas` wewnątrz używa `numpy`, dlatego składnia, np. filtrowania, jest podobna. Bardzo łatwo można także konwertować dane z `pandas` do `numpy`.\n",
        "\n"
      ]
    },
    {
      "cell_type": "code",
      "metadata": {
        "id": "idVWOeIrkQUe",
        "colab_type": "code",
        "colab": {},
        "outputId": "460a0c75-98bc-4108-a970-ffdd395712d7"
      },
      "source": [
        "np.random.seed(2018)\n",
        "rows = 15\n",
        "\n",
        "df = pd.DataFrame({\n",
        "    'height': np.random.randint(140, 210, rows),\n",
        "    'weight': np.random.randint(50, 80, rows),\n",
        "})\n",
        "\n",
        "df"
      ],
      "execution_count": 0,
      "outputs": [
        {
          "output_type": "execute_result",
          "data": {
            "text/html": [
              "<div>\n",
              "<style scoped>\n",
              "    .dataframe tbody tr th:only-of-type {\n",
              "        vertical-align: middle;\n",
              "    }\n",
              "\n",
              "    .dataframe tbody tr th {\n",
              "        vertical-align: top;\n",
              "    }\n",
              "\n",
              "    .dataframe thead th {\n",
              "        text-align: right;\n",
              "    }\n",
              "</style>\n",
              "<table border=\"1\" class=\"dataframe\">\n",
              "  <thead>\n",
              "    <tr style=\"text-align: right;\">\n",
              "      <th></th>\n",
              "      <th>height</th>\n",
              "      <th>weight</th>\n",
              "    </tr>\n",
              "  </thead>\n",
              "  <tbody>\n",
              "    <tr>\n",
              "      <td>0</td>\n",
              "      <td>149</td>\n",
              "      <td>76</td>\n",
              "    </tr>\n",
              "    <tr>\n",
              "      <td>1</td>\n",
              "      <td>161</td>\n",
              "      <td>56</td>\n",
              "    </tr>\n",
              "    <tr>\n",
              "      <td>2</td>\n",
              "      <td>168</td>\n",
              "      <td>63</td>\n",
              "    </tr>\n",
              "    <tr>\n",
              "      <td>3</td>\n",
              "      <td>160</td>\n",
              "      <td>71</td>\n",
              "    </tr>\n",
              "    <tr>\n",
              "      <td>4</td>\n",
              "      <td>146</td>\n",
              "      <td>72</td>\n",
              "    </tr>\n",
              "    <tr>\n",
              "      <td>5</td>\n",
              "      <td>165</td>\n",
              "      <td>73</td>\n",
              "    </tr>\n",
              "    <tr>\n",
              "      <td>6</td>\n",
              "      <td>165</td>\n",
              "      <td>50</td>\n",
              "    </tr>\n",
              "    <tr>\n",
              "      <td>7</td>\n",
              "      <td>187</td>\n",
              "      <td>73</td>\n",
              "    </tr>\n",
              "    <tr>\n",
              "      <td>8</td>\n",
              "      <td>165</td>\n",
              "      <td>58</td>\n",
              "    </tr>\n",
              "    <tr>\n",
              "      <td>9</td>\n",
              "      <td>200</td>\n",
              "      <td>57</td>\n",
              "    </tr>\n",
              "    <tr>\n",
              "      <td>10</td>\n",
              "      <td>171</td>\n",
              "      <td>59</td>\n",
              "    </tr>\n",
              "    <tr>\n",
              "      <td>11</td>\n",
              "      <td>162</td>\n",
              "      <td>70</td>\n",
              "    </tr>\n",
              "    <tr>\n",
              "      <td>12</td>\n",
              "      <td>146</td>\n",
              "      <td>58</td>\n",
              "    </tr>\n",
              "    <tr>\n",
              "      <td>13</td>\n",
              "      <td>182</td>\n",
              "      <td>67</td>\n",
              "    </tr>\n",
              "    <tr>\n",
              "      <td>14</td>\n",
              "      <td>140</td>\n",
              "      <td>77</td>\n",
              "    </tr>\n",
              "  </tbody>\n",
              "</table>\n",
              "</div>"
            ],
            "text/plain": [
              "    height  weight\n",
              "0      149      76\n",
              "1      161      56\n",
              "2      168      63\n",
              "3      160      71\n",
              "4      146      72\n",
              "5      165      73\n",
              "6      165      50\n",
              "7      187      73\n",
              "8      165      58\n",
              "9      200      57\n",
              "10     171      59\n",
              "11     162      70\n",
              "12     146      58\n",
              "13     182      67\n",
              "14     140      77"
            ]
          },
          "metadata": {
            "tags": []
          },
          "execution_count": 19
        }
      ]
    },
    {
      "cell_type": "markdown",
      "metadata": {
        "id": "ajPGqjNHkQUg",
        "colab_type": "text"
      },
      "source": [
        "Dostać się do danych w wybranej kolumnie, można na co najmniej dwa sposoby."
      ]
    },
    {
      "cell_type": "code",
      "metadata": {
        "id": "P_A9ENsBkQUg",
        "colab_type": "code",
        "colab": {},
        "outputId": "73732b94-d163-45d5-bd33-6d185f2b4f87"
      },
      "source": [
        "df.height\n",
        "\n",
        "#lub\n",
        "\n",
        "df['height']"
      ],
      "execution_count": 0,
      "outputs": [
        {
          "output_type": "execute_result",
          "data": {
            "text/plain": [
              "0     149\n",
              "1     161\n",
              "2     168\n",
              "3     160\n",
              "4     146\n",
              "5     165\n",
              "6     165\n",
              "7     187\n",
              "8     165\n",
              "9     200\n",
              "10    171\n",
              "11    162\n",
              "12    146\n",
              "13    182\n",
              "14    140\n",
              "Name: height, dtype: int64"
            ]
          },
          "metadata": {
            "tags": []
          },
          "execution_count": 20
        }
      ]
    },
    {
      "cell_type": "markdown",
      "metadata": {
        "id": "2_HFLJlrkQUn",
        "colab_type": "text"
      },
      "source": [
        "\n",
        "\n",
        "## Filtrowanie\n",
        "Kolejna operacja, która jest bardzo potrzebna, to filtrowanie. Załóżmy, że chcemy zostawić w tabelce ludzi, którzy mają mniej niż 145 cm lub więcej niż 195 cm."
      ]
    },
    {
      "cell_type": "code",
      "metadata": {
        "id": "GaJaHyYAkQUo",
        "colab_type": "code",
        "colab": {},
        "outputId": "8f28a07b-72a4-43ea-aec9-eb5acfa5479f"
      },
      "source": [
        "df[ (df.height < 145) | (df.height > 195) ]"
      ],
      "execution_count": 0,
      "outputs": [
        {
          "output_type": "execute_result",
          "data": {
            "text/html": [
              "<div>\n",
              "<style scoped>\n",
              "    .dataframe tbody tr th:only-of-type {\n",
              "        vertical-align: middle;\n",
              "    }\n",
              "\n",
              "    .dataframe tbody tr th {\n",
              "        vertical-align: top;\n",
              "    }\n",
              "\n",
              "    .dataframe thead th {\n",
              "        text-align: right;\n",
              "    }\n",
              "</style>\n",
              "<table border=\"1\" class=\"dataframe\">\n",
              "  <thead>\n",
              "    <tr style=\"text-align: right;\">\n",
              "      <th></th>\n",
              "      <th>height</th>\n",
              "      <th>weight</th>\n",
              "      <th>count</th>\n",
              "      <th>ratio</th>\n",
              "    </tr>\n",
              "  </thead>\n",
              "  <tbody>\n",
              "    <tr>\n",
              "      <td>9</td>\n",
              "      <td>200</td>\n",
              "      <td>57</td>\n",
              "      <td>1</td>\n",
              "      <td>3.508772</td>\n",
              "    </tr>\n",
              "    <tr>\n",
              "      <td>14</td>\n",
              "      <td>140</td>\n",
              "      <td>77</td>\n",
              "      <td>1</td>\n",
              "      <td>1.818182</td>\n",
              "    </tr>\n",
              "  </tbody>\n",
              "</table>\n",
              "</div>"
            ],
            "text/plain": [
              "    height  weight  count     ratio\n",
              "9      200      57      1  3.508772\n",
              "14     140      77      1  1.818182"
            ]
          },
          "metadata": {
            "tags": []
          },
          "execution_count": 23
        }
      ]
    },
    {
      "cell_type": "markdown",
      "metadata": {
        "id": "GvyAo5USkQUs",
        "colab_type": "text"
      },
      "source": [
        "Zwróć uwagę na składnię.\n",
        "\n",
        "Po pierwsze, jeśli jest więcej niż jeden filtr, należy pojedyncze wyrażenia trzymać w nawiasach (to jest koniecznie).\n",
        "\n",
        "Po drugie pomiędzy wyrażeniami logicznymi jest operator, w tym przypadku \"lub\" czyli pionowa kreska (ang. pipe) \"|\". \n",
        "Również może być operator \"i\", wtedy należy użyć [ampersandy/etki](https://pl.wikipedia.org/wiki/Et) \"&\".\n",
        "\n",
        "Po trzecie, wyrażeń logicznych może być więcej niż jedno, ale powyżej trzech trudno jest to czytać i łatwo popełnić błąd."
      ]
    },
    {
      "cell_type": "code",
      "metadata": {
        "id": "siw2wU4nkQUu",
        "colab_type": "code",
        "colab": {}
      },
      "source": [
        "if 'ratio' in df: del df['ratio']"
      ],
      "execution_count": 0,
      "outputs": []
    },
    {
      "cell_type": "markdown",
      "metadata": {
        "id": "kUigsfOlkQUw",
        "colab_type": "text"
      },
      "source": [
        "## Zadanie 2\n",
        "\n",
        "Zrób `dataframe`, który na początek zawiera dwie kolumny:\n",
        "- **age** (losowe wartości od 15 do 50)\n",
        "- **weight** (losowe wartości od 50 do 80)"
      ]
    },
    {
      "cell_type": "code",
      "metadata": {
        "id": "lru00xdzkQUw",
        "colab_type": "code",
        "colab": {}
      },
      "source": [
        ""
      ],
      "execution_count": 0,
      "outputs": []
    }
  ]
}